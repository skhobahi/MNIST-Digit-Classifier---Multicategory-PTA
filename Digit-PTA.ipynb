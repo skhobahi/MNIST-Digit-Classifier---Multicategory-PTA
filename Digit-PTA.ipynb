{
 "cells": [
  {
   "cell_type": "code",
   "execution_count": 1,
   "metadata": {},
   "outputs": [],
   "source": [
    "import numpy as np\n",
    "import struct\n",
    "import matplotlib.pyplot as plt\n",
    "import matplotlib.cm as cm\n",
    "%matplotlib inline"
   ]
  },
  {
   "cell_type": "code",
   "execution_count": 2,
   "metadata": {},
   "outputs": [],
   "source": [
    "def mnist_read():\n",
    "    with open('./train-labels-idx1-ubyte', 'rb') as binary_file: #processing training labels\n",
    "        binary_file.seek(0)  # Go to beginning\n",
    "        #Reading first 4 bytes to extract the magic number\n",
    "        magic_number = binary_file.read(4)\n",
    "        #unpacking couple_bytes as a 4byte signed integer with Big-endian Byte order\n",
    "        train_magic_number = struct.unpack('>i',magic_number) \n",
    "        #print(magic_number)\n",
    "        #unpacking next 4 bytes to extract the number of items\n",
    "        nitems = binary_file.read(4)\n",
    "        nitems = struct.unpack('>i',nitems)\n",
    "        #print(nitems)\n",
    "        # Next, we use np.fromfile to create an array from data in a binary file(var)\n",
    "        train_labels = np.fromfile(binary_file, np.uint8) #labels are an unsigned byte --> np.uint8 \n",
    "        # More info: https://docs.scipy.org/doc/numpy-1.13.0/reference/generated/numpy.fromfile.html\n",
    "        #print (train_labels)\n",
    "    with open('./train-images-idx3-ubyte', 'rb') as binary_file: #processing training images\n",
    "        # reading the first 16 bytes: \n",
    "        # 4bytes: magic_number | 4bytes: # of images | 4bites: # of rows | 4bytes: # of cols\n",
    "        data = binary_file.read(16) \n",
    "        magic_number, ntrimages, rows, cols = struct.unpack('>iiii', data)\n",
    "        #print (magic_number, ntrimages, rows, cols)\n",
    "        # extracting images and storing them into a numpy array (note that each image is stored as a vector, so we need to reshape it in the matrix form)\n",
    "        train_images = np.fromfile(binary_file, np.uint8).reshape(ntrimages, rows, cols)\n",
    "    with open('./t10k-labels-idx1-ubyte', 'rb') as binary_file:\n",
    "        data = binary_file.read(8)\n",
    "        magic_number, ntelabels = struct.unpack('>ii',data)\n",
    "        #print (magic_number, ntelabels)\n",
    "        test_labels = np.fromfile(binary_file, np.uint8) #reading the labels\n",
    "    with open('./t10k-images-idx3-ubyte', 'rb') as binary_file:\n",
    "        data = binary_file.read(16)\n",
    "        magic_number, nteimages, rows, cols = struct.unpack('>iiii', data)\n",
    "        #print (magic_number, nteimages, rows, cols)\n",
    "        test_images = np.fromfile(binary_file, np.uint8).reshape(nteimages, rows, cols)\n",
    "    return train_images, train_labels, ntrimages, test_images, test_labels, nteimages"
   ]
  },
  {
   "cell_type": "code",
   "execution_count": 3,
   "metadata": {},
   "outputs": [],
   "source": [
    "train_images, train_labels, ntrimages, test_images, test_labels, nteimages = mnist_read()"
   ]
  },
  {
   "cell_type": "code",
   "execution_count": 4,
   "metadata": {},
   "outputs": [
    {
     "data": {
      "image/png": "[encoded data removed]",
      "text/plain": [
       "<matplotlib.figure.Figure at 0x10dcc1d90>"
      ]
     },
     "metadata": {},
     "output_type": "display_data"
    }
   ],
   "source": [
    "plt.imshow(train_images[2], cmap=cm.Greys)\n",
    "plt.title(train_labels[2])\n",
    "plt.grid()"
   ]
  },
  {
   "cell_type": "code",
   "execution_count": 5,
   "metadata": {},
   "outputs": [],
   "source": [
    "# constructing the desired output vectors [1 0 0 ... 0]', [0 1 0 ... 0]', ...\n",
    "global output_vectors\n",
    "output_vectors = np.array([1,0,0,0,0,0,0,0,0,0], dtype=np.int)"
   ]
  },
  {
   "cell_type": "code",
   "execution_count": 6,
   "metadata": {},
   "outputs": [],
   "source": [
    "e = lambda i: np.roll(output_vectors,i) #rotating 1 in output_vectors to generate desired output vectors"
   ]
  },
  {
   "cell_type": "code",
   "execution_count": 7,
   "metadata": {},
   "outputs": [],
   "source": [
    "#Initializing the constants\n",
    "eta=1\n",
    "eps=0.1\n",
    "n=6000#ntrimages\n",
    "epoch = 0"
   ]
  },
  {
   "cell_type": "code",
   "execution_count": 18,
   "metadata": {},
   "outputs": [],
   "source": [
    "W = np.random.uniform(-5,5,7840)\n",
    "W = np.reshape(W,(10,784))\n",
    "W = np.matrix(W)\n",
    "\n",
    "def u(x):\n",
    "    if x>=0:\n",
    "        return 1\n",
    "    else:\n",
    "        return 0\n",
    "    "
   ]
  },
  {
   "cell_type": "code",
   "execution_count": 19,
   "metadata": {
    "collapsed": true
   },
   "outputs": [],
   "source": [
    "errors = np.zeros(ntrimages)\n",
    "x=np.empty((784,ntrimages))\n",
    "x = x.T\n",
    "vu = np.vectorize(u) #vectorizing the scalar function u\n"
   ]
  },
  {
   "cell_type": "code",
   "execution_count": 20,
   "metadata": {},
   "outputs": [
    {
     "name": "stdout",
     "output_type": "stream",
     "text": [
      "eta=1.000000\tn=6000\tepsilon=0.100000\n",
      "Total Number of Epochs: 7\n",
      "Convergence Error: 0.090333\n"
     ]
    }
   ],
   "source": [
    "flag=1;\n",
    "while (flag):\n",
    "    for i in range(n):\n",
    "        x[i] = np.ravel(train_images[i])\n",
    "        v = np.dot(W,x[i]) # Calculating the induced local field\n",
    "        j = np.argmax(v) # Finding the index number corresponds to the maximum value\n",
    "        \n",
    "        if(j != train_labels[i]):\n",
    "            errors[epoch]+=1\n",
    "        \n",
    "    epoch+=1\n",
    "    \n",
    "    for i in range(n):\n",
    "        W = W + np.dot( eta*( e(train_labels[i]) - vu(np.dot(W,x[i]))  ).T, np.array(x[i]).reshape((1,784)) )\n",
    "    \n",
    "    if(errors[epoch-1]/n < eps):\n",
    "        flag=0\n",
    "print('eta=%f\\tn=%d\\tepsilon=%f\\nTotal Number of Epochs: %d\\nConvergence Error: %f'%(eta, n, eps, epoch, errors[epoch-1]/n))"
   ]
  },
  {
   "cell_type": "markdown",
   "metadata": {},
   "source": [
    "### Part (e)"
   ]
  },
  {
   "cell_type": "code",
   "execution_count": 49,
   "metadata": {},
   "outputs": [
    {
     "data": {
      "text/plain": [
       "4181"
      ]
     },
     "execution_count": 49,
     "metadata": {},
     "output_type": "execute_result"
    }
   ],
   "source": [
    "def test(W): \n",
    "    misclass_e = 0\n",
    "    for i in range(nteimages): #nteimages=10000\n",
    "        #x[i] = np.ravel(train_images[i])\n",
    "        v = np.dot(W,x[i]) # Calculating the induced local field\n",
    "        j = np.argmax(v) # Finding the index number corresponds to the maximum value\n",
    "\n",
    "        if(j != train_labels[i]):\n",
    "            misclass_e+=1\n",
    "    #print('Total Errors: %d'%(misclass_e))\n",
    "    return misclass_e\n",
    "test(W)"
   ]
  },
  {
   "cell_type": "markdown",
   "metadata": {},
   "source": [
    "### Part (f) --- n=50 $\\eta $ = 1 $\\epsilon$ = 0"
   ]
  },
  {
   "cell_type": "code",
   "execution_count": 38,
   "metadata": {},
   "outputs": [
    {
     "name": "stdout",
     "output_type": "stream",
     "text": [
      "Total Errors: 8824\n",
      "Total Errors: 7253\n",
      "Total Errors: 6207\n",
      "Total Errors: 6581\n",
      "Total Errors: 6345\n",
      "eta=1.000000\tn=50\tepsilon=0.000000\n",
      "Total Number of Epochs: 5\n",
      "Convergence Error: 0.000000\n"
     ]
    }
   ],
   "source": [
    "eta=1\n",
    "eps=0.00\n",
    "n=50\n",
    "epoch_f = 0\n",
    "errors_f = np.zeros(ntrimages)\n",
    "misclass_f = np.zeros(ntrimages)\n",
    "W_f = np.random.uniform(-5,5,7840)\n",
    "W_f = np.reshape(W_f,(10,784))\n",
    "W_f = np.matrix(W_f)\n",
    "flag=1;\n",
    "while (flag):\n",
    "    for i in range(n):\n",
    "        x[i] = np.ravel(train_images[i])\n",
    "        v = np.dot(W_f,x[i]) # Calculating the induced local field\n",
    "        j = np.argmax(v) # Finding the index number corresponds to the maximum value\n",
    "        \n",
    "        if(j != train_labels[i]):\n",
    "            errors_f[epoch_f]+=1\n",
    "            \n",
    "    misclass_f[epoch_f]=test(W_f);    \n",
    "    epoch_f+=1\n",
    "    \n",
    "    for i in range(n):\n",
    "        W_f = W_f + np.dot( eta*( e(train_labels[i]) - vu(np.dot(W_f,x[i]))  ).T, np.array(x[i]).reshape((1,784)) )\n",
    "    \n",
    "    if(errors_f[epoch_f-1]/n <= eps):\n",
    "        flag=0\n",
    "print('eta=%f\\tn=%d\\tepsilon=%f\\nTotal Number of Epochs: %d\\nConvergence Error: %f'%(eta, n, eps, epoch_f, errors_f[epoch_f-1]/n))"
   ]
  },
  {
   "cell_type": "code",
   "execution_count": 39,
   "metadata": {},
   "outputs": [
    {
     "data": {
      "text/plain": [
       "<matplotlib.text.Text at 0x10def6110>"
      ]
     },
     "execution_count": 39,
     "metadata": {},
     "output_type": "execute_result"
    },
    {
     "data": {
      "image/png": "[encoded data removed]",
      "text/plain": [
       "<matplotlib.figure.Figure at 0x126b62c50>"
      ]
     },
     "metadata": {},
     "output_type": "display_data"
    }
   ],
   "source": [
    "x1_axis = np.linspace(0,epoch_f,epoch_f)\n",
    "x2_axis = errors_f[0:epoch_f]\n",
    "plt.figure(figsize=(20, 9))  \n",
    "plt.plot(x1_axis, x2_axis, \"-\", color=\"blue\",label='test') #drawing the line w_0 + w_1*x_1 + w_2*x_2=0\n",
    "plt.xlabel('Epoch #')\n",
    "plt.ylabel('# of Errors')"
   ]
  },
  {
   "cell_type": "code",
   "execution_count": 45,
   "metadata": {},
   "outputs": [
    {
     "data": {
      "text/plain": [
       "<matplotlib.text.Text at 0x127c99210>"
      ]
     },
     "execution_count": 45,
     "metadata": {},
     "output_type": "execute_result"
    },
    {
     "data": {
      "image/png": "[encoded data removed]",
      "text/plain": [
       "<matplotlib.figure.Figure at 0x127ca6f10>"
      ]
     },
     "metadata": {},
     "output_type": "display_data"
    }
   ],
   "source": [
    "x1_axis = np.linspace(0,epoch_f,epoch_f)\n",
    "x2_axis = misclass_f[0:epoch_f]\n",
    "plt.figure(figsize=(9, 9))  \n",
    "plt.bar(x1_axis, x2_axis,color='black') \n",
    "plt.xlabel('Epoch #')\n",
    "plt.ylabel('# of Misclassifications')"
   ]
  },
  {
   "cell_type": "code",
   "execution_count": 46,
   "metadata": {},
   "outputs": [
    {
     "name": "stdout",
     "output_type": "stream",
     "text": [
      "Total Errors: 6387\n"
     ]
    },
    {
     "data": {
      "text/plain": [
       "6387"
      ]
     },
     "execution_count": 46,
     "metadata": {},
     "output_type": "execute_result"
    }
   ],
   "source": [
    "test(W_f)"
   ]
  },
  {
   "cell_type": "markdown",
   "metadata": {},
   "source": [
    "The total number of misclassifications for part (f) is **6387**. However, for part (d) is **4181**. It seems that our network has done a better job at classification when it learns from fewer samples. As the intuition goes, when we have more samples the performance should improve overally but in our case it seems that the first 50 samples in addition to the new randomly initialized weights is classifying better. Hence, we can conclude that the number of misclassification depends on both initial values of the weight matrices, and the number of elements we trained the network."
   ]
  },
  {
   "cell_type": "markdown",
   "metadata": {},
   "source": [
    "### Part (g): n=1000 $\\eta=1, \\epsilon=0$"
   ]
  },
  {
   "cell_type": "code",
   "execution_count": 50,
   "metadata": {},
   "outputs": [
    {
     "name": "stdout",
     "output_type": "stream",
     "text": [
      "eta=1.000000\tn=1000\tepsilon=0.000000\n",
      "Total Number of Epochs: 32\n",
      "Convergence Error: 0.000000\n"
     ]
    }
   ],
   "source": [
    "eta=1\n",
    "eps=0.00\n",
    "n=1000\n",
    "epoch_g = 0\n",
    "errors_g = np.zeros(ntrimages)\n",
    "misclass_g = np.zeros(ntrimages)\n",
    "W_g = np.random.uniform(-500,500,7840)\n",
    "W_g = np.reshape(W_g,(10,784))\n",
    "W_g = np.matrix(W_g)\n",
    "flag=1;\n",
    "while (flag):\n",
    "    for i in range(n):\n",
    "        x[i] = np.ravel(train_images[i])\n",
    "        v = np.dot(W_g,x[i]) # Calculating the induced local field\n",
    "        j = np.argmax(v) # Finding the index number corresponds to the maximum value\n",
    "        \n",
    "        if(j != train_labels[i]):\n",
    "            errors_g[epoch_g]+=1\n",
    "            \n",
    "    misclass_g[epoch_g]=test(W_g);    \n",
    "    epoch_g+=1\n",
    "    \n",
    "    for i in range(n):\n",
    "        W_g = W_g + np.dot( eta*( e(train_labels[i]) - vu(np.dot(W_g,x[i]))  ).T, np.array(x[i]).reshape((1,784)) )\n",
    "    \n",
    "    if(errors_g[epoch_g-1]/n <= eps):\n",
    "        flag=0\n",
    "    #print(errors_g[epoch_g-1]/n)\n",
    "print('eta=%f\\tn=%d\\tepsilon=%f\\nTotal Number of Epochs: %d\\nConvergence Error: %f'%(eta, n, eps, epoch_g, errors_g[epoch_g-1]/n))"
   ]
  },
  {
   "cell_type": "code",
   "execution_count": 51,
   "metadata": {},
   "outputs": [
    {
     "data": {
      "text/plain": [
       "<matplotlib.text.Text at 0x1281f30d0>"
      ]
     },
     "execution_count": 51,
     "metadata": {},
     "output_type": "execute_result"
    },
    {
     "data": {
      "image/png": "[encoded data removed]",
      "text/plain": [
       "<matplotlib.figure.Figure at 0x10a8240d0>"
      ]
     },
     "metadata": {},
     "output_type": "display_data"
    }
   ],
   "source": [
    "x1_axis = np.linspace(0,epoch_g,epoch_g)\n",
    "x2_axis = errors_g[0:epoch_g]\n",
    "plt.figure(figsize=(20, 9))  \n",
    "plt.plot(x1_axis, x2_axis, \"-\", lw=1,color=\"black\",label='test') #drawing the line w_0 + w_1*x_1 + w_2*x_2=0\n",
    "plt.xlabel('Epoch #')\n",
    "plt.ylabel('# of Missclassifications')"
   ]
  },
  {
   "cell_type": "code",
   "execution_count": 52,
   "metadata": {},
   "outputs": [
    {
     "data": {
      "text/plain": [
       "4425"
      ]
     },
     "execution_count": 52,
     "metadata": {},
     "output_type": "execute_result"
    }
   ],
   "source": [
    "test(W_g)"
   ]
  },
  {
   "cell_type": "code",
   "execution_count": 54,
   "metadata": {},
   "outputs": [
    {
     "data": {
      "text/plain": [
       "<matplotlib.text.Text at 0x12a2406d0>"
      ]
     },
     "execution_count": 54,
     "metadata": {},
     "output_type": "execute_result"
    },
    {
     "data": {
      "image/png": "[encoded data removed]",
      "text/plain": [
       "<matplotlib.figure.Figure at 0x129f34a50>"
      ]
     },
     "metadata": {},
     "output_type": "display_data"
    }
   ],
   "source": [
    "x1_axis = np.linspace(0,epoch_g,epoch_g)\n",
    "x2_axis = misclass_g[0:epoch_g]\n",
    "plt.figure(figsize=(9, 9))  \n",
    "plt.bar(x1_axis, x2_axis,color='black') \n",
    "plt.xlabel('Epoch #')\n",
    "plt.ylabel('# of Misclassifications')"
   ]
  },
  {
   "cell_type": "markdown",
   "metadata": {},
   "source": [
    "Comparison\n",
    "\n",
    "\n",
    "\n",
    "\n",
    "\n",
    "\n"
   ]
  },
  {
   "cell_type": "markdown",
   "metadata": {},
   "source": [
    "### Part(h): n=60000 $\\eta=3$"
   ]
  },
  {
   "cell_type": "code",
   "execution_count": 58,
   "metadata": {},
   "outputs": [
    {
     "name": "stdout",
     "output_type": "stream",
     "text": [
      "eta=3.000000\tn=60000\tepsilon=0.000000\n",
      "Total Number of Epochs: 40\n",
      "Convergence Error: 0.150533\n"
     ]
    }
   ],
   "source": [
    "eta=3\n",
    "eps=0\n",
    "n=ntrimages\n",
    "max_epoch=40\n",
    "epoch_h = 0\n",
    "errors_h = np.zeros(ntrimages)\n",
    "misclass_h = np.zeros(ntrimages)\n",
    "W_h = np.random.uniform(-5,5,7840)\n",
    "W_h = np.reshape(W_h,(10,784))\n",
    "W_h = np.matrix(W_h)\n",
    "flag=1;\n",
    "while (flag):\n",
    "    for i in range(n):\n",
    "        x[i] = np.ravel(train_images[i])\n",
    "        v = np.dot(W_h,x[i]) # Calculating the induced local field\n",
    "        j = np.argmax(v) # Finding the index number corresponds to the maximum value\n",
    "        \n",
    "        if(j != train_labels[i]):\n",
    "            errors_h[epoch_h]+=1\n",
    "            \n",
    "    misclass_h[epoch_h]=test(W_h);    \n",
    "    epoch_h+=1\n",
    "    \n",
    "    for i in range(n):\n",
    "        W_h = W_h + np.dot( eta*( e(train_labels[i]) - vu(np.dot(W_h,x[i]))  ).T, np.array(x[i]).reshape((1,784)) )\n",
    "    \n",
    "    if((errors_h[epoch_h-1]/n <= eps) | (epoch_h==max_epoch)):\n",
    "        flag=0\n",
    "    #print(epoch_h)\n",
    "    #print(errors_h[epoch_h-1]/n)\n",
    "print('eta=%f\\tn=%d\\tepsilon=%f\\nTotal Number of Epochs: %d\\nConvergence Error: %f'%(eta, n, eps, epoch_h, errors_h[epoch_h-1]/n))"
   ]
  },
  {
   "cell_type": "code",
   "execution_count": 59,
   "metadata": {},
   "outputs": [
    {
     "data": {
      "text/plain": [
       "<matplotlib.text.Text at 0x12931f810>"
      ]
     },
     "execution_count": 59,
     "metadata": {},
     "output_type": "execute_result"
    },
    {
     "data": {
      "image/png": "[encoded data removed]",
      "text/plain": [
       "<matplotlib.figure.Figure at 0x12a613c90>"
      ]
     },
     "metadata": {},
     "output_type": "display_data"
    }
   ],
   "source": [
    "x1_axis = np.linspace(0,epoch_h,epoch_h)\n",
    "x2_axis = errors_h[0:epoch_h]\n",
    "plt.figure(figsize=(20, 9))  \n",
    "plt.plot(x1_axis, x2_axis, \"-\", lw=1,color=\"black\",label='test') \n",
    "plt.xlabel('Epoch #')\n",
    "plt.ylabel('# of Errors')"
   ]
  },
  {
   "cell_type": "code",
   "execution_count": 60,
   "metadata": {},
   "outputs": [
    {
     "name": "stdout",
     "output_type": "stream",
     "text": [
      "Maximum Number of Epochs Achieved\n",
      "eta=3.000000\tn=60000\tepsilon=0.000000\n",
      "Total Number of Epochs: 40\n",
      "Convergence Error: 0.150533\n"
     ]
    }
   ],
   "source": [
    "print('Maximum Number of Epochs Achieved\\neta=%f\\tn=%d\\tepsilon=%f\\nTotal Number of Epochs: %d\\nConvergence Error: %f'%(eta, n, eps, epoch_h, errors_h[epoch_h-1]/n))"
   ]
  },
  {
   "cell_type": "markdown",
   "metadata": {},
   "source": [
    "It seems that the minimum value of the error among 200 epochs is:"
   ]
  },
  {
   "cell_type": "code",
   "execution_count": 61,
   "metadata": {},
   "outputs": [
    {
     "name": "stdout",
     "output_type": "stream",
     "text": [
      "Minimum error is: 0.126983, and achieved at epoch 24\n"
     ]
    }
   ],
   "source": [
    "print('Minimum error is: %f, and achieved at epoch %d'%(min(errors_h[0:epoch_h]/n),np.argmin(errors_h[0:epoch_h])))"
   ]
  },
  {
   "cell_type": "code",
   "execution_count": 62,
   "metadata": {},
   "outputs": [
    {
     "data": {
      "text/plain": [
       "<matplotlib.text.Text at 0x127b85190>"
      ]
     },
     "execution_count": 62,
     "metadata": {},
     "output_type": "execute_result"
    },
    {
     "data": {
      "image/png": "[encoded data removed]",
      "text/plain": [
       "<matplotlib.figure.Figure at 0x127c3b390>"
      ]
     },
     "metadata": {},
     "output_type": "display_data"
    }
   ],
   "source": [
    "x1_axis = np.linspace(0,epoch_h,epoch_h)\n",
    "x2_axis = misclass_h[0:epoch_h]\n",
    "plt.figure(figsize=(9, 9))  \n",
    "plt.bar(x1_axis, x2_axis,color='black') \n",
    "plt.xlabel('Epoch #')\n",
    "plt.ylabel('# of Misclassifications')"
   ]
  },
  {
   "cell_type": "markdown",
   "metadata": {},
   "source": [
    "So, for the next part, we will choose $\\eta=2, \\epsilon=0.550$."
   ]
  },
  {
   "cell_type": "markdown",
   "metadata": {},
   "source": [
    "Desciption\n",
    "\n"
   ]
  },
  {
   "cell_type": "markdown",
   "metadata": {},
   "source": [
    "### Part(i) - First Try"
   ]
  },
  {
   "cell_type": "code",
   "execution_count": 119,
   "metadata": {},
   "outputs": [
    {
     "name": "stdout",
     "output_type": "stream",
     "text": [
      "eta=2.000000\tn=60000\tepsilon=0.550000\n",
      "Total Number of Epochs: 182\n",
      "Convergence Error: 0.509033\n"
     ]
    }
   ],
   "source": [
    "eta=2\n",
    "eps=0.550\n",
    "n=ntrimages\n",
    "max_epoch=500\n",
    "epoch_h = 0\n",
    "errors_h = np.zeros(ntrimages)\n",
    "misclass_h = np.zeros(ntrimages)\n",
    "W_h = np.random.uniform(-5,5,7840)\n",
    "W_h = np.reshape(W_h,(10,784))\n",
    "W_h = np.matrix(W_h)\n",
    "flag=1;\n",
    "while (flag):\n",
    "    for i in range(n):\n",
    "        x[i] = np.ravel(train_images[i])\n",
    "        v = np.dot(W_h,x[i]) # Calculating the induced local field\n",
    "        j = np.argmax(v) # Finding the index number corresponds to the maximum value\n",
    "        \n",
    "        if(j != train_labels[i]):\n",
    "            errors_h[epoch_h]+=1\n",
    "            misclass_h[epoch_h]+=1\n",
    "        \n",
    "    epoch_h+=1\n",
    "    \n",
    "    for i in range(n):\n",
    "        W_h = W_h + np.dot( eta*( e(train_labels[i]) - vu(np.dot(W_h,x[i]))  ).T, np.array(x[i]).reshape((1,784)) )\n",
    "    \n",
    "    if((errors_h[epoch_h-1]/n <= eps) | (epoch_h==max_epoch)):\n",
    "        flag=0\n",
    "    #print(epoch_h)\n",
    "    #print(errors_h[epoch_h-1]/n)\n",
    "print('eta=%f\\tn=%d\\tepsilon=%f\\nTotal Number of Epochs: %d\\nConvergence Error: %f'%(eta, n, eps, epoch_h, errors_h[epoch_h-1]/n))"
   ]
  },
  {
   "cell_type": "markdown",
   "metadata": {
    "collapsed": true
   },
   "source": [
    "#### Calculating the total number of misclassification(First Try):"
   ]
  },
  {
   "cell_type": "code",
   "execution_count": 120,
   "metadata": {},
   "outputs": [
    {
     "name": "stdout",
     "output_type": "stream",
     "text": [
      "Total Errors: 5953\n"
     ]
    }
   ],
   "source": [
    "test(W_h)"
   ]
  },
  {
   "cell_type": "markdown",
   "metadata": {},
   "source": [
    "### Part(i) : Second Try"
   ]
  },
  {
   "cell_type": "code",
   "execution_count": null,
   "metadata": {
    "collapsed": true
   },
   "outputs": [],
   "source": [
    "eta=3\n",
    "eps=0.550\n",
    "n=ntrimages\n",
    "max_epoch=500\n",
    "epoch_h = 0\n",
    "errors_h = np.zeros(ntrimages)\n",
    "misclass_h = np.zeros(ntrimages)\n",
    "W_h = np.random.uniform(-5,5,7840)\n",
    "W_h = np.reshape(W_h,(10,784))\n",
    "W_h = np.matrix(W_h)\n",
    "flag=1;\n",
    "while (flag):\n",
    "    for i in range(n):\n",
    "        x[i] = np.ravel(train_images[i])\n",
    "        v = np.dot(W_h,x[i]) # Calculating the induced local field\n",
    "        j = np.argmax(v) # Finding the index number corresponds to the maximum value\n",
    "        \n",
    "        if(j != train_labels[i]):\n",
    "            errors_h[epoch_h]+=1\n",
    "            misclass_h[epoch_h]+=1\n",
    "        \n",
    "    epoch_h+=1\n",
    "    \n",
    "    for i in range(n):\n",
    "        W_h = W_h + np.dot( eta*( e(train_labels[i]) - vu(np.dot(W_h,x[i]))  ).T, np.array(x[i]).reshape((1,784)) )\n",
    "    \n",
    "    if((errors_h[epoch_h-1]/n <= eps) | (epoch_h==max_epoch)):\n",
    "        flag=0\n",
    "    print(epoch_h)\n",
    "    print(errors_h[epoch_h-1]/n)\n",
    "print('eta=%f\\tn=%d\\tepsilon=%f\\nTotal Number of Epochs: %d\\nConvergence Error: %f'%(eta, n, eps, epoch_h, errors_h[epoch_h-1]/n))"
   ]
  },
  {
   "cell_type": "markdown",
   "metadata": {},
   "source": [
    "40<br>\n",
    "0.645383333333<br>\n",
    "41<br>\n",
    "0.630283333333<br>\n",
    "42<br>\n",
    "0.755583333333<br>\n",
    "43<br>\n",
    "0.6914<br>\n",
    "44<br>\n",
    "0.5387<br>\n",
    "eta=2.000000    n=60000 epsilon=0.550000<br>\n",
    "Total Number of Epochs: 44<br>\n",
    "Convergence Error: 0.538700"
   ]
  },
  {
   "cell_type": "markdown",
   "metadata": {},
   "source": [
    "#### Calculating the total number of misclassification(Second Try):"
   ]
  },
  {
   "cell_type": "code",
   "execution_count": 116,
   "metadata": {},
   "outputs": [
    {
     "name": "stdout",
     "output_type": "stream",
     "text": [
      "Total Errors: 6042\n"
     ]
    }
   ],
   "source": [
    "test(W_h) #W_h = np.loadtxt('test.out', delimiter=',')"
   ]
  },
  {
   "cell_type": "markdown",
   "metadata": {},
   "source": [
    "### Part(i) : Third Try"
   ]
  },
  {
   "cell_type": "code",
   "execution_count": null,
   "metadata": {
    "collapsed": true
   },
   "outputs": [],
   "source": [
    "eta=3\n",
    "eps=0.550\n",
    "n=ntrimages\n",
    "max_epoch=500\n",
    "epoch_h = 0\n",
    "errors_h = np.zeros(ntrimages)\n",
    "misclass_h = np.zeros(ntrimages)\n",
    "W_h = np.random.uniform(-5,5,7840)\n",
    "W_h = np.reshape(W_h,(10,784))\n",
    "W_h = np.matrix(W_h)\n",
    "flag=1;\n",
    "while (flag):\n",
    "    for i in range(n):\n",
    "        x[i] = np.ravel(train_images[i])\n",
    "        v = np.dot(W_h,x[i]) # Calculating the induced local field\n",
    "        j = np.argmax(v) # Finding the index number corresponds to the maximum value\n",
    "        \n",
    "        if(j != train_labels[i]):\n",
    "            errors_h[epoch_h]+=1\n",
    "            misclass_h[epoch_h]+=1\n",
    "        \n",
    "    epoch_h+=1\n",
    "    \n",
    "    for i in range(n):\n",
    "        W_h = W_h + np.dot( eta*( e(train_labels[i]) - vu(np.dot(W_h,x[i]))  ).T, np.array(x[i]).reshape((1,784)) )\n",
    "    \n",
    "    if((errors_h[epoch_h-1]/n <= eps) | (epoch_h==max_epoch)):\n",
    "        flag=0\n",
    "    print(epoch_h)\n",
    "    print(errors_h[epoch_h-1]/n)\n",
    "print('eta=%f\\tn=%d\\tepsilon=%f\\nTotal Number of Epochs: %d\\nConvergence Error: %f'%(eta, n, eps, epoch_h, errors_h[epoch_h-1]/n))"
   ]
  },
  {
   "cell_type": "markdown",
   "metadata": {},
   "source": [
    "130<br>\n",
    "0.63085<br>\n",
    "131<br>\n",
    "0.637783333333<br>\n",
    "132<br>\n",
    "0.72625<br>\n",
    "133<br>\n",
    "0.608233333333<br>\n",
    "134<br>\n",
    "0.689916666667<br>\n",
    "135<br>\n",
    "0.673183333333<br>\n",
    "136<br>\n",
    "0.672033333333<br>\n",
    "137<br>\n",
    "0.669416666667<br>\n",
    "138<br>\n",
    "0.536783333333<br>\n",
    "eta=2.000000    n=60000 epsilon=0.550000<br>\n",
    "Total Number of Epochs: 138<br>\n",
    "Convergence Error: 0.536783"
   ]
  },
  {
   "cell_type": "markdown",
   "metadata": {},
   "source": [
    "#### Calculating the total number of misclassification(Third Try):\n"
   ]
  },
  {
   "cell_type": "code",
   "execution_count": 117,
   "metadata": {},
   "outputs": [
    {
     "name": "stdout",
     "output_type": "stream",
     "text": [
      "Total Errors: 6408\n"
     ]
    }
   ],
   "source": [
    "test(W_h)"
   ]
  },
  {
   "cell_type": "markdown",
   "metadata": {},
   "source": [
    "The Total Number of Misclassifications for first, second and third try are **5953, 6042, and 6408** respectively. Although the total number of samples on which the network has been trained are equal for all cases, the initial random weight vectors are affecting the performance of the network on the test images and the number of misclassifications depends on the initial value of the weight vectors (because different weight vectors might achieve the same performance on the training images but with different values. So, they would have different error on the test images.)"
   ]
  },
  {
   "cell_type": "code",
   "execution_count": null,
   "metadata": {
    "collapsed": true
   },
   "outputs": [],
   "source": []
  }
 ],
 "metadata": {
  "kernelspec": {
   "display_name": "Python 2",
   "language": "python",
   "name": "python2"
  },
  "language_info": {
   "codemirror_mode": {
    "name": "ipython",
    "version": 2
   },
   "file_extension": ".py",
   "mimetype": "text/x-python",
   "name": "python",
   "nbconvert_exporter": "python",
   "pygments_lexer": "ipython2",
   "version": "2.7.11"
  }
 },
 "nbformat": 4,
 "nbformat_minor": 1
}
